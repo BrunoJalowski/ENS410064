{
 "cells": [
  {
   "cell_type": "markdown",
   "id": "c980bad2-1741-4b48-b339-6d80e85ee1a4",
   "metadata": {},
   "source": [
    "# Aula 03\n",
    "\n",
    "Nesta aula vamos trabalhar com os comandos básicos do python.\n",
    "\n",
    "- tipos de variáveis\n",
    "- operações matemáticas\n",
    "- uso de pacotes\n",
    "- numpy array\n",
    "- condições"
   ]
  },
  {
   "cell_type": "markdown",
   "id": "408fee54-99b7-4442-8f47-8a9d1510a394",
   "metadata": {},
   "source": [
    "## Tipos de variáveis"
   ]
  },
  {
   "cell_type": "code",
   "execution_count": 2,
   "id": "4bb23b3e-9a51-496e-8e4a-0afffc335c54",
   "metadata": {},
   "outputs": [
    {
     "name": "stdout",
     "output_type": "stream",
     "text": [
      "o valor de a é igual a 1(funcionou após transformar em string)\n",
      "<class 'int'>\n"
     ]
    }
   ],
   "source": [
    "# números inteiros\n",
    "\n",
    "a= 1\n",
    "\n",
    "# printa na tela\n",
    "print('o valor de a é igual a ' + str(a) + '(funcionou após transformar em string)')\n",
    "\n",
    "print(type(a))\n"
   ]
  },
  {
   "cell_type": "code",
   "execution_count": 5,
   "id": "23ff14d6-555b-40c0-9af2-5c2426ca7e3d",
   "metadata": {},
   "outputs": [
    {
     "name": "stdout",
     "output_type": "stream",
     "text": [
      "Bianca está fazendo bagunça com ajuda de  Bruno e Ana Julia \n",
      "<class 'str'>\n"
     ]
    }
   ],
   "source": [
    "# texto - char - string\n",
    "\n",
    "c = 'Bianca está fazendo bagunça'\n",
    "d = ' com ajuda de '\n",
    "e = ' Bruno e Ana Julia '\n",
    "\n",
    "print(c+d+e)\n",
    "print(type(c))"
   ]
  },
  {
   "cell_type": "code",
   "execution_count": 11,
   "id": "fcc4772b-38a9-4592-aba3-e873ee962ff2",
   "metadata": {},
   "outputs": [
    {
     "name": "stdout",
     "output_type": "stream",
     "text": [
      "['Marcos', 'José', 'Djesser', 'Rafael']\n",
      "59\n",
      "[1, 2, 3, 10, 7]\n",
      "[10, 10, 10, 6, 'José', 'Marcos', 'Rafael', 'Bruno']\n"
     ]
    }
   ],
   "source": [
    "# lista de texto\n",
    "\n",
    "namesList = ['Marcos', 'José', 'Djesser', 'Rafael']\n",
    "print(namesList)\n",
    "\n",
    "#comando para identificar o tamanho da lista\n",
    "print(len('O tamanho da lista é' + str(namesList)))\n",
    "\n",
    "#uma lista de numeros\n",
    "numList = [1,2,3,10,7]\n",
    "print(numList)\n",
    "\n",
    "# uma lista de numeros e strings\n",
    "numNameList = [10,10,10,6,'José', 'Marcos', 'Rafael', 'Bruno']\n",
    "print(numNameList)"
   ]
  },
  {
   "cell_type": "code",
   "execution_count": 13,
   "id": "00bcfc6a-0f53-420b-a08c-8d2a77be1218",
   "metadata": {},
   "outputs": [
    {
     "name": "stdout",
     "output_type": "stream",
     "text": [
      "Marcos\n"
     ]
    }
   ],
   "source": [
    "# acessando os valores da lista\n",
    "\n",
    "# acessando o primeiro valor da lsita namesList\n",
    "print(namesList[0])"
   ]
  },
  {
   "cell_type": "code",
   "execution_count": 24,
   "id": "ef233f00-94bb-401d-b3a1-c4572cb2b3a7",
   "metadata": {},
   "outputs": [
    {
     "name": "stdout",
     "output_type": "stream",
     "text": [
      "{'name': ['marcos', 'larissa', 'daphne'], 'Altura': [1.95, 1.67, 1.63]}\n",
      "1.95\n",
      "larissa\n"
     ]
    }
   ],
   "source": [
    "# Dicionários\n",
    "\n",
    "namesDict = {'name':['marcos','larissa','daphne'],\n",
    "            'Altura': [1.95, 1.67, 1.63]}\n",
    "\n",
    "print(namesDict)\n",
    "print(namesDict['Altura'][0])\n",
    "print(namesDict['name'][1])"
   ]
  },
  {
   "cell_type": "code",
   "execution_count": null,
   "id": "5df6bdb0-992a-4d0d-a26e-d6e3de4a2f0e",
   "metadata": {},
   "outputs": [],
   "source": []
  }
 ],
 "metadata": {
  "kernelspec": {
   "display_name": "Python 3 (ipykernel)",
   "language": "python",
   "name": "python3"
  },
  "language_info": {
   "codemirror_mode": {
    "name": "ipython",
    "version": 3
   },
   "file_extension": ".py",
   "mimetype": "text/x-python",
   "name": "python",
   "nbconvert_exporter": "python",
   "pygments_lexer": "ipython3",
   "version": "3.12.6"
  }
 },
 "nbformat": 4,
 "nbformat_minor": 5
}
